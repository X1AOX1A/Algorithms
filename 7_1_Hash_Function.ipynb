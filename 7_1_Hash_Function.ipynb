{
 "cells": [
  {
   "cell_type": "markdown",
   "metadata": {},
   "source": [
    "# Hash Function"
   ]
  },
  {
   "cell_type": "code",
   "execution_count": 1,
   "metadata": {
    "ExecuteTime": {
     "end_time": "2021-10-04T08:11:30.192014Z",
     "start_time": "2021-10-04T08:11:29.834463Z"
    }
   },
   "outputs": [],
   "source": [
    "import numpy as np\n",
    "\n",
    "class hash_func():\n",
    "    '''Implementation of hash function\n",
    "    h_0(k) = (a * k + b) mod [mod]\n",
    "    \n",
    "    Args:\n",
    "    - a: int, coefficient of hash function\n",
    "    - b: int, constant of hash function\n",
    "    - mod: int, quotient of hash function\n",
    "    \n",
    "    Attributes:\n",
    "    - a: int, coefficient of hash function\n",
    "    - b: int, constant of hash function\n",
    "    - mod: int, quotient of hash function\n",
    "    '''\n",
    "    \n",
    "    def __init__(self, a, b, mod):\n",
    "        self.a = a\n",
    "        self.b = b\n",
    "        self.mod = mod\n",
    "        print('Hash Function:\\nh_0(k) = ({}k+{}) mod {}'.format(a, b, mod))\n",
    "        \n",
    "    def cal(self, k):\n",
    "        ''' Calculate the hash value\n",
    "        Args:\n",
    "        - k: int, divided number\n",
    "        \n",
    "        Return:\n",
    "        - hash_value: int, hash value of k\n",
    "        '''\n",
    "        return np.mod(self.a*k + self.b, self.mod)\n",
    "    \n",
    "\n",
    "class linear_probing():\n",
    "    '''Implementation of linear probing function\n",
    "    h(k, i) = [h_0(k) + i] mod [mod]\n",
    "    where h_0(k) = (a * k + b) mod [mod]\n",
    "    \n",
    "    Args:\n",
    "    - mod: int, quotient of quadratic probing function\n",
    "    \n",
    "    Attributes:\n",
    "    - mod: int, quotient of quadratic probing function\n",
    "    '''\n",
    "    \n",
    "    def __init__(self, mod, hash_func):\n",
    "        self.mod = mod\n",
    "        self.hash_func = hash_func\n",
    "        print('Linear Probing function:')\n",
    "        print('h(k, i) = [h_0(k) + i] mod {}'.format(mod))\n",
    "    \n",
    "    def cal(self, k, i):\n",
    "        ''' Calculate the hash value\n",
    "        Args:\n",
    "        - i: int, the number of collision\n",
    "        - k: int, divided number\n",
    "        \n",
    "        Return:\n",
    "        - hash_value: int, hash value of k\n",
    "        '''\n",
    "        h0 = self.hash_func.cal(k)        \n",
    "        return np.mod(h0+i, self.mod)\n",
    "\n",
    "    \n",
    "class quadratic_probing():\n",
    "    '''Implementation of quadratic probing function\n",
    "    h(k, i) = [h_0(k) + ai + bi^2] mod [mod]\n",
    "    where h_0(k) = (a * k + b) mod [mod]\n",
    "    \n",
    "    Args:\n",
    "    - a: int, coefficient of quadratic probing function\n",
    "    - b: int, constant of quadratic probing function\n",
    "    - mod: int, quotient of quadratic probing function\n",
    "    \n",
    "    Attributes:\n",
    "    - a: int, coefficient of quadratic probing function\n",
    "    - b: int, constant of quadratic probing function\n",
    "    - mod: int, quotient of quadratic probing function\n",
    "    '''\n",
    "    \n",
    "    def __init__(self, a, b, mod, hash_func):\n",
    "        self.a = a\n",
    "        self.b = b\n",
    "        self.mod = mod\n",
    "        self.hash_func = hash_func\n",
    "        print('Quadratic Probing function:')\n",
    "        print('h(k, i) = [h_0(k) + {}i + {}i^2] mod {}'.format(a, b, mod))\n",
    "        \n",
    "    def cal(self, k, i):\n",
    "        ''' Calculate the hash value\n",
    "        Args:\n",
    "        - i: int, the number of collision\n",
    "        - k: int, divided number\n",
    "        \n",
    "        Return:\n",
    "        - hash_value: int, hash value of k\n",
    "        '''\n",
    "        h0 = self.hash_func.cal(k)   \n",
    "        return np.mod( h0 + self.a*i + self.b*i**2, self.mod)"
   ]
  },
  {
   "cell_type": "code",
   "execution_count": 2,
   "metadata": {
    "ExecuteTime": {
     "end_time": "2021-10-04T08:11:30.206826Z",
     "start_time": "2021-10-04T08:11:30.195594Z"
    }
   },
   "outputs": [
    {
     "name": "stdout",
     "output_type": "stream",
     "text": [
      "Hash Function: \n",
      "h_0(k)=k\n",
      "Linear Probing function:\n",
      "h(k, i) = [h_0(k) + i] mod 9\n"
     ]
    }
   ],
   "source": [
    "class hash_func_2():\n",
    "    def __init__(self):\n",
    "        print('Hash Function: \\nh_0(k)=k')\n",
    "    def cal(self, k):\n",
    "        return k\n",
    "    \n",
    "HF = hash_func_2()\n",
    "LP = linear_probing(mod=9, hash_func=HF)"
   ]
  },
  {
   "cell_type": "code",
   "execution_count": 3,
   "metadata": {
    "ExecuteTime": {
     "end_time": "2021-10-04T08:11:30.242583Z",
     "start_time": "2021-10-04T08:11:30.218053Z"
    }
   },
   "outputs": [
    {
     "data": {
      "text/plain": [
       "3"
      ]
     },
     "execution_count": 3,
     "metadata": {},
     "output_type": "execute_result"
    }
   ],
   "source": [
    "LP.cal(21, 0)"
   ]
  },
  {
   "cell_type": "code",
   "execution_count": 4,
   "metadata": {
    "ExecuteTime": {
     "end_time": "2021-10-04T08:11:30.265514Z",
     "start_time": "2021-10-04T08:11:30.255038Z"
    }
   },
   "outputs": [
    {
     "name": "stdout",
     "output_type": "stream",
     "text": [
      "Hash Function:\n",
      "h_0(k) = (1k+0) mod 11\n",
      "Quadratic Probing function:\n",
      "h(k, i) = [h_0(k) + 1i + 1i^2] mod 11\n"
     ]
    }
   ],
   "source": [
    "HF = hash_func(a=1, b=0, mod=11)\n",
    "QP = quadratic_probing(a=1, b=1, mod=11, hash_func=HF)"
   ]
  },
  {
   "cell_type": "code",
   "execution_count": 5,
   "metadata": {
    "ExecuteTime": {
     "end_time": "2021-10-04T08:11:30.304784Z",
     "start_time": "2021-10-04T08:11:30.275602Z"
    }
   },
   "outputs": [
    {
     "data": {
      "text/plain": [
       "1"
      ]
     },
     "execution_count": 5,
     "metadata": {},
     "output_type": "execute_result"
    }
   ],
   "source": [
    "QP.cal(12, 0)"
   ]
  },
  {
   "cell_type": "code",
   "execution_count": 6,
   "metadata": {
    "ExecuteTime": {
     "end_time": "2021-10-04T08:11:30.318194Z",
     "start_time": "2021-10-04T08:11:30.309303Z"
    }
   },
   "outputs": [
    {
     "data": {
      "text/plain": [
       "9"
      ]
     },
     "execution_count": 6,
     "metadata": {},
     "output_type": "execute_result"
    }
   ],
   "source": [
    "QP.cal(44, 4)"
   ]
  }
 ],
 "metadata": {
  "kernelspec": {
   "display_name": "Python 3 (ipykernel)",
   "language": "python",
   "name": "python3"
  },
  "language_info": {
   "codemirror_mode": {
    "name": "ipython",
    "version": 3
   },
   "file_extension": ".py",
   "mimetype": "text/x-python",
   "name": "python",
   "nbconvert_exporter": "python",
   "pygments_lexer": "ipython3",
   "version": "3.7.11"
  },
  "toc": {
   "base_numbering": 1,
   "nav_menu": {},
   "number_sections": true,
   "sideBar": true,
   "skip_h1_title": false,
   "title_cell": "Table of Contents",
   "title_sidebar": "Contents",
   "toc_cell": false,
   "toc_position": {},
   "toc_section_display": true,
   "toc_window_display": false
  },
  "varInspector": {
   "cols": {
    "lenName": 16,
    "lenType": 16,
    "lenVar": 40
   },
   "kernels_config": {
    "python": {
     "delete_cmd_postfix": "",
     "delete_cmd_prefix": "del ",
     "library": "var_list.py",
     "varRefreshCmd": "print(var_dic_list())"
    },
    "r": {
     "delete_cmd_postfix": ") ",
     "delete_cmd_prefix": "rm(",
     "library": "var_list.r",
     "varRefreshCmd": "cat(var_dic_list()) "
    }
   },
   "types_to_exclude": [
    "module",
    "function",
    "builtin_function_or_method",
    "instance",
    "_Feature"
   ],
   "window_display": false
  }
 },
 "nbformat": 4,
 "nbformat_minor": 4
}
