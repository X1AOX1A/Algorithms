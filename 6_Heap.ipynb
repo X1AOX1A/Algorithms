{
 "cells": [
  {
   "cell_type": "code",
   "execution_count": 1,
   "metadata": {
    "ExecuteTime": {
     "end_time": "2021-09-22T14:42:13.550692Z",
     "start_time": "2021-09-22T14:42:13.533600Z"
    }
   },
   "outputs": [],
   "source": [
    "import sys\n",
    "sys.path.append('./py/')\n",
    "from Array import Array\n",
    "from math import floor, ceil, log"
   ]
  },
  {
   "cell_type": "code",
   "execution_count": 2,
   "metadata": {
    "ExecuteTime": {
     "end_time": "2021-09-22T14:42:13.593797Z",
     "start_time": "2021-09-22T14:42:13.559242Z"
    }
   },
   "outputs": [],
   "source": [
    "class Min_Heap:\n",
    "    '''Implementation of min heap with array\n",
    "    \n",
    "    Args:\n",
    "    - FILL_VALUE: default None, the default value of heap\n",
    "    \n",
    "    Attributes:\n",
    "    - data: list, the data of heap in BFS order (PS: the first element was \n",
    "    left to be empty)    \n",
    "    - len: int, the logical size of heap\n",
    "    - CAPACITY: int, the physical size of heap, start from 1\n",
    "    - FILL_VALUE: default None, the default value of heap\n",
    "    \n",
    "    '''\n",
    "    \n",
    "    def __init__(self, CAPACITY = 10, FILL_VALUE=None):\n",
    "        self.data =  Array(CAPACITY=CAPACITY, FILL_VALUE=FILL_VALUE).data\n",
    "        self.len = 0\n",
    "        self.CAPACITY = CAPACITY\n",
    "        self.FILL_VALUE = FILL_VALUE\n",
    "\n",
    "        \n",
    "    def upheap(self):\n",
    "        '''Upheap last item to follow the heap-order property\n",
    "        '''\n",
    "        child_idx = self.len\n",
    "        parent_idx = floor(self.len/2)\n",
    "        while self.data[child_idx] < self.data[parent_idx]:\n",
    "            self.data[child_idx], self.data[parent_idx] = \\\n",
    "            self.data[parent_idx],  self.data[child_idx]\n",
    "            \n",
    "            if parent_idx == 1:\n",
    "                break\n",
    "            child_idx = parent_idx\n",
    "            parent_idx = floor(child_idx/2)\n",
    "    \n",
    "    \n",
    "    def insert(self, item):\n",
    "        '''Insert new node into the min heap\n",
    "        \n",
    "        Args:\n",
    "        - item: int, the data to insert\n",
    "        \n",
    "        Return:\n",
    "        - None\n",
    "        \n",
    "        '''\n",
    "        self.len += 1\n",
    "        self.data[self.len] = item\n",
    "        if self.len> 1 :\n",
    "            self.upheap()     \n",
    "            \n",
    "            \n",
    "    def downheap(self):\n",
    "        '''Downheap first item to follow the heap-order property\n",
    "        '''\n",
    "        parent_idx = 1\n",
    "        # Choose the child node with smaller data\n",
    "        if self.len == 2:\n",
    "            child_idx = 2\n",
    "        else:\n",
    "            child_idx = 2 if self.data[2]<self.data[3] else 3\n",
    "\n",
    "        while self.data[parent_idx] > self.data[child_idx]:\n",
    "            self.data[child_idx], self.data[parent_idx] = \\\n",
    "            self.data[parent_idx],  self.data[child_idx]\n",
    "                                    \n",
    "            if child_idx  > self.len/2:\n",
    "                break\n",
    "            parent_idx = child_idx\n",
    "            if 2*parent_idx == self.len:\n",
    "                child_idx = 2*parent_idx\n",
    "            else:\n",
    "                child_idx = 2*parent_idx if self.data[2*parent_idx]\\\n",
    "                <self.data[2*parent_idx+1] else 2*parent_idx+1\n",
    "        \n",
    "        \n",
    "    def remove_min(self):\n",
    "        '''Remove the min node from the heap\n",
    "        '''\n",
    "        if self.len == 0:\n",
    "            raise Expertion(\"Error! The heap is already empty\")\n",
    "        self.data[1] = self.data[self.len]\n",
    "        self.data[self.len] = self.FILL_VALUE\n",
    "        self.len -= 1\n",
    "        if self.len > 2:\n",
    "            self.downheap()\n",
    "            \n",
    "            \n",
    "    def _min(self):\n",
    "        '''Return the min value of the heap\n",
    "        \n",
    "        Return:\n",
    "        - int, the minimum vaule node of the heap\n",
    "        '''\n",
    "        return self.data[1]\n",
    "    \n",
    "    \n",
    "    def _max(self):\n",
    "        '''Return the max vaule of the heap\n",
    "        \n",
    "        Return:\n",
    "        - int, the maximum vaule node of the heap\n",
    "        '''\n",
    "        if self.len == 0:\n",
    "            raise Expertion(\"Error! The heap is empty\")\n",
    "        m = self.data[self.len]\n",
    "        for i in range(2**(ceil(log(self.len+1, 2)-1)), self.len):\n",
    "            if self.data[i]> m:\n",
    "                m = self.data[i]\n",
    "        return m            "
   ]
  },
  {
   "cell_type": "code",
   "execution_count": 3,
   "metadata": {
    "ExecuteTime": {
     "end_time": "2021-09-22T14:42:13.684369Z",
     "start_time": "2021-09-22T14:42:13.602625Z"
    }
   },
   "outputs": [
    {
     "name": "stdout",
     "output_type": "stream",
     "text": [
      "Original data:\n",
      " [None, 2, 5, 6, 9, 7, None]\n",
      "\n",
      "Insert 1:\n",
      " [None, 1, 5, 2, 9, 7, 6]\n",
      "\n",
      "Delete the minimum node:\n",
      " [None, 2, 5, 6, 9, 7, None]\n",
      "\n",
      "Minimum value: 2\n",
      "Maximum value: 9\n"
     ]
    }
   ],
   "source": [
    "# Create a min heap\n",
    "a = Min_Heap(CAPACITY=7)\n",
    "for i in [2, 5, 6, 9, 7]:\n",
    "    a.insert(i)\n",
    "print('Original data:\\n', a.data)\n",
    "\n",
    "# Insert a new node\n",
    "a.insert(1)\n",
    "assert a.data == [None, 1, 5, 2, 9, 7, 6]\n",
    "print('\\nInsert 1:\\n', a.data)\n",
    "\n",
    "# Delete the minimum node\n",
    "a.remove_min()\n",
    "assert a.data == [None, 2, 5, 6, 9, 7, None]\n",
    "print('\\nDelete the minimum node:\\n', a.data)\n",
    "\n",
    "# Minimum value of heap\n",
    "assert a._min() == 2\n",
    "print('\\nMinimum value:', a._min())\n",
    "\n",
    "# Maximum value of heap\n",
    "assert a._max() == 9\n",
    "print('Maximum value:', a._max())"
   ]
  },
  {
   "cell_type": "code",
   "execution_count": 4,
   "metadata": {
    "ExecuteTime": {
     "end_time": "2021-09-22T14:42:13.796924Z",
     "start_time": "2021-09-22T14:42:13.750674Z"
    },
    "scrolled": false
   },
   "outputs": [
    {
     "name": "stdout",
     "output_type": "stream",
     "text": [
      "[None, 2, None, None, None, None, None]\n",
      "len: 1  max: 2  min: 2 \n",
      "\n",
      "[None, 2, 5, None, None, None, None]\n",
      "len: 2  max: 5  min: 2 \n",
      "\n",
      "[None, 2, 5, 6, None, None, None]\n",
      "len: 3  max: 6  min: 2 \n",
      "\n",
      "[None, 2, 5, 6, 9, None, None]\n",
      "len: 4  max: 9  min: 2 \n",
      "\n",
      "[None, 2, 5, 6, 9, 7, None]\n",
      "len: 5  max: 9  min: 2 \n",
      "\n",
      "[None, 1, 5, 2, 9, 7, 6]\n",
      "len: 6  max: 9  min: 1 \n",
      "\n",
      "\n",
      "\n",
      "[None, 2, 5, 6, 9, 7, None]\n",
      "[None, 5, 7, 6, 9, None, None]\n",
      "[None, 6, 7, 9, None, None, None]\n",
      "[None, 9, 7, None, None, None, None]\n",
      "[None, 7, None, None, None, None, None]\n",
      "[None, None, None, None, None, None, None]\n"
     ]
    }
   ],
   "source": [
    "a = Min_Heap(CAPACITY=7)\n",
    "for i in [2, 5, 6, 9, 7, 1]:\n",
    "    a.insert(i)\n",
    "    print(a.data)\n",
    "    print('len:', a.len, ' max:', a._max(), ' min:', a._min(),'\\n')\n",
    "\n",
    "\n",
    "print('\\n')\n",
    "    \n",
    "for i in range(a.len):\n",
    "    a.remove_min()\n",
    "    print(a.data)"
   ]
  },
  {
   "cell_type": "code",
   "execution_count": 5,
   "metadata": {
    "ExecuteTime": {
     "end_time": "2021-09-22T14:42:13.859429Z",
     "start_time": "2021-09-22T14:42:13.805052Z"
    }
   },
   "outputs": [
    {
     "name": "stdout",
     "output_type": "stream",
     "text": [
      "[None, 8, None, None, None, None, None, None, None, None]\n",
      "[None, 3, 8, None, None, None, None, None, None, None]\n",
      "[None, 3, 8, 9, None, None, None, None, None, None]\n",
      "[None, 3, 8, 9, 10, None, None, None, None, None]\n",
      "[None, 2, 3, 9, 10, 8, None, None, None, None]\n",
      "[None, 2, 3, 6, 10, 8, 9, None, None, None]\n",
      "[None, 2, 3, 4, 10, 8, 9, 6, None, None]\n",
      "[None, 2, 3, 4, 5, 8, 9, 6, 10, None]\n",
      "[None, 1, 2, 4, 3, 8, 9, 6, 10, 5]\n",
      "\n",
      "\n",
      "[None, 2, 3, 4, 5, 8, 9, 6, 10, None]\n",
      "[None, 3, 5, 4, 10, 8, 9, 6, None, None]\n",
      "[None, 4, 5, 6, 10, 8, 9, None, None, None]\n",
      "[None, 5, 8, 6, 10, 9, None, None, None, None]\n",
      "[None, 6, 8, 9, 10, None, None, None, None, None]\n",
      "[None, 8, 10, 9, None, None, None, None, None, None]\n",
      "[None, 9, 10, None, None, None, None, None, None, None]\n",
      "[None, 10, None, None, None, None, None, None, None, None]\n",
      "[None, None, None, None, None, None, None, None, None, None]\n"
     ]
    }
   ],
   "source": [
    "a = Min_Heap()\n",
    "for i in [8, 3, 9, 10, 2, 6, 4, 5, 1]:\n",
    "    a.insert(i)\n",
    "    print(a.data)\n",
    "    \n",
    "print('\\n')\n",
    "\n",
    "for i in range(a.len):\n",
    "    a.remove_min()\n",
    "    print(a.data)"
   ]
  }
 ],
 "metadata": {
  "kernelspec": {
   "display_name": "Python 3 (ipykernel)",
   "language": "python",
   "name": "python3"
  },
  "language_info": {
   "codemirror_mode": {
    "name": "ipython",
    "version": 3
   },
   "file_extension": ".py",
   "mimetype": "text/x-python",
   "name": "python",
   "nbconvert_exporter": "python",
   "pygments_lexer": "ipython3",
   "version": "3.7.11"
  },
  "toc": {
   "base_numbering": 1,
   "nav_menu": {},
   "number_sections": true,
   "sideBar": true,
   "skip_h1_title": false,
   "title_cell": "Table of Contents",
   "title_sidebar": "Contents",
   "toc_cell": false,
   "toc_position": {},
   "toc_section_display": true,
   "toc_window_display": false
  },
  "varInspector": {
   "cols": {
    "lenName": 16,
    "lenType": 16,
    "lenVar": 40
   },
   "kernels_config": {
    "python": {
     "delete_cmd_postfix": "",
     "delete_cmd_prefix": "del ",
     "library": "var_list.py",
     "varRefreshCmd": "print(var_dic_list())"
    },
    "r": {
     "delete_cmd_postfix": ") ",
     "delete_cmd_prefix": "rm(",
     "library": "var_list.r",
     "varRefreshCmd": "cat(var_dic_list()) "
    }
   },
   "types_to_exclude": [
    "module",
    "function",
    "builtin_function_or_method",
    "instance",
    "_Feature"
   ],
   "window_display": false
  }
 },
 "nbformat": 4,
 "nbformat_minor": 4
}
