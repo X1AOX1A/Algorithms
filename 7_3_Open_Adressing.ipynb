{
 "cells": [
  {
   "cell_type": "code",
   "execution_count": 1,
   "metadata": {
    "ExecuteTime": {
     "end_time": "2021-10-04T09:12:06.634757Z",
     "start_time": "2021-10-04T09:12:06.239618Z"
    }
   },
   "outputs": [],
   "source": [
    "import sys\n",
    "sys.path.append('./py/')\n",
    "from Hash_Function import hash_func, linear_probing, quadratic_probing"
   ]
  },
  {
   "cell_type": "markdown",
   "metadata": {},
   "source": [
    "# Open Addressing"
   ]
  },
  {
   "cell_type": "code",
   "execution_count": 2,
   "metadata": {
    "ExecuteTime": {
     "end_time": "2021-10-04T09:12:06.660510Z",
     "start_time": "2021-10-04T09:12:06.637616Z"
    }
   },
   "outputs": [],
   "source": [
    "class Open_Addressing():\n",
    "    '''Implementaion of Open Addressing Hash Table\n",
    "    \n",
    "    Args:\n",
    "    - size: int, max number that hash table can contain(mod size)\n",
    "    - probing_func: probing function\n",
    "    \n",
    "    Attributes:\n",
    "    - Hash_Table: dict\n",
    "      - .keys: int, hash values\n",
    "      - .values: int, keys of hash table\n",
    "    - size: int, max number that hash table can contain(mod size)\n",
    "    '''\n",
    "    \n",
    "    def __init__(self, size, probing_func):\n",
    "        self.size = size\n",
    "        self.probing_func = probing_func\n",
    "        self.Hash_Table = {hash_val : None  for hash_val in range(size)}\n",
    "        \n",
    "        \n",
    "    def insert(self, k):\n",
    "        '''Insert k into Open Adressing Hash Table\n",
    "        \n",
    "        Args:\n",
    "        - k: int, the element to be inserted\n",
    "        '''\n",
    "        \n",
    "        i = 0\n",
    "        slot = self.probing_func.cal(k, i) # the slot of k\n",
    "        while (self.Hash_Table[slot] is not None and 'Delete') and (i<self.size):\n",
    "            i += 1\n",
    "            slot = self.probing_func.cal(k, i)\n",
    "        if i == self.size:\n",
    "            raise Exception(\"Error! Hash table is full\")\n",
    "        self.Hash_Table[slot] = k\n",
    "        \n",
    "        \n",
    "    def search(self, k):\n",
    "        '''Search k in Open Addressing Hash Table\n",
    "        \n",
    "        Args:\n",
    "        - k: int, the element to be searched\n",
    "        \n",
    "        Returns:\n",
    "        if founded:\n",
    "        - slot: int, the slot of k in hash table\n",
    "        if not founded:\n",
    "        return None\n",
    "        '''\n",
    "        i = 0\n",
    "        slot = self.probing_func.cal(k, i) # the slot of k\n",
    "        while (self.Hash_Table[slot] is not None and 'Delete')\\\n",
    "        and (self.Hash_Table[slot]!=k)and (i<self.size):\n",
    "            i += 1\n",
    "            slot = self.probing_func.cal(k, i)\n",
    "        if (self.Hash_Table[slot]!=k) or (i==self.size):\n",
    "            return None\n",
    "        return slot\n",
    "    \n",
    "    \n",
    "    def delete(self, k):\n",
    "        '''Delete x from Chaining Hash Table\n",
    "        \n",
    "        Args:\n",
    "        - x: int, the element to be inserted\n",
    "        '''\n",
    "        \n",
    "        slot = self.search(k)\n",
    "        if slot is None:\n",
    "            raise Exception(\"Error! The element is not in hash table\")\n",
    "        self.Hash_Table[slot] = 'Deleted'"
   ]
  },
  {
   "cell_type": "code",
   "execution_count": 3,
   "metadata": {
    "ExecuteTime": {
     "end_time": "2021-10-04T09:12:06.684506Z",
     "start_time": "2021-10-04T09:12:06.672886Z"
    }
   },
   "outputs": [],
   "source": [
    "## Linear Probing"
   ]
  },
  {
   "cell_type": "code",
   "execution_count": 4,
   "metadata": {
    "ExecuteTime": {
     "end_time": "2021-10-04T09:12:06.710512Z",
     "start_time": "2021-10-04T09:12:06.692475Z"
    }
   },
   "outputs": [
    {
     "name": "stdout",
     "output_type": "stream",
     "text": [
      "\n",
      "Hash Function: \n",
      "h_0(k)=k\n",
      "Linear Probing function:\n",
      "h(k, i) = [h_0(k) + i] mod 5\n",
      "\n",
      "Hash Table:\n",
      "0 : 308\n",
      "1 : None\n",
      "2 : None\n",
      "3 : 293\n",
      "4 : 598\n"
     ]
    }
   ],
   "source": [
    "class hash_func_2():\n",
    "    def __init__(self):\n",
    "        print('Hash Function: \\nh_0(k)=k')\n",
    "    def cal(self, k):\n",
    "        return k\n",
    "    \n",
    "print('')\n",
    "HF = hash_func_2()\n",
    "LP = linear_probing(mod=5, hash_func=HF)\n",
    "OA = Open_Addressing(size=5, probing_func=LP)\n",
    "\n",
    "print('\\nHash Table:')\n",
    "for i in [293, 598, 308]:\n",
    "    OA.insert(i)\n",
    "for (bucket, values) in zip(OA.Hash_Table.keys(), OA.Hash_Table.values()):\n",
    "    print(bucket, ':', values)"
   ]
  },
  {
   "cell_type": "code",
   "execution_count": 5,
   "metadata": {
    "ExecuteTime": {
     "end_time": "2021-10-04T09:12:06.767083Z",
     "start_time": "2021-10-04T09:12:06.719846Z"
    }
   },
   "outputs": [
    {
     "data": {
      "text/plain": [
       "{0: 308, 1: None, 2: None, 3: 293, 4: 598}"
      ]
     },
     "execution_count": 5,
     "metadata": {},
     "output_type": "execute_result"
    }
   ],
   "source": [
    "OA.Hash_Table"
   ]
  },
  {
   "cell_type": "code",
   "execution_count": 6,
   "metadata": {
    "ExecuteTime": {
     "end_time": "2021-10-04T09:12:06.807918Z",
     "start_time": "2021-10-04T09:12:06.787307Z"
    }
   },
   "outputs": [
    {
     "data": {
      "text/plain": [
       "3"
      ]
     },
     "execution_count": 6,
     "metadata": {},
     "output_type": "execute_result"
    }
   ],
   "source": [
    "OA.search(293)"
   ]
  },
  {
   "cell_type": "code",
   "execution_count": 7,
   "metadata": {
    "ExecuteTime": {
     "end_time": "2021-10-04T09:12:06.837869Z",
     "start_time": "2021-10-04T09:12:06.815735Z"
    }
   },
   "outputs": [
    {
     "name": "stdout",
     "output_type": "stream",
     "text": [
      "0 : 308\n",
      "1 : None\n",
      "2 : None\n",
      "3 : Deleted\n",
      "4 : 598\n"
     ]
    }
   ],
   "source": [
    "OA.delete(293)\n",
    "for (bucket, values) in zip(OA.Hash_Table.keys(), OA.Hash_Table.values()):\n",
    "    print(bucket, ':', values)"
   ]
  },
  {
   "cell_type": "code",
   "execution_count": 8,
   "metadata": {
    "ExecuteTime": {
     "end_time": "2021-10-04T09:12:06.889421Z",
     "start_time": "2021-10-04T09:12:06.869192Z"
    }
   },
   "outputs": [
    {
     "data": {
      "text/plain": [
       "{0: 308, 1: None, 2: None, 3: 'Deleted', 4: 598}"
      ]
     },
     "execution_count": 8,
     "metadata": {},
     "output_type": "execute_result"
    }
   ],
   "source": [
    "OA.Hash_Table"
   ]
  },
  {
   "cell_type": "markdown",
   "metadata": {},
   "source": [
    "## Quadratic Probing"
   ]
  },
  {
   "cell_type": "code",
   "execution_count": 9,
   "metadata": {
    "ExecuteTime": {
     "end_time": "2021-10-04T09:12:06.940950Z",
     "start_time": "2021-10-04T09:12:06.916138Z"
    }
   },
   "outputs": [
    {
     "name": "stdout",
     "output_type": "stream",
     "text": [
      "Hash Function:\n",
      "h_0(k) = (1k+0) mod 11\n",
      "Quadratic Probing function:\n",
      "h(k, i) = [h_0(k) + 1i + 1i^2] mod 11\n",
      "\n",
      "Hash Table:\n",
      "0 : 44\n",
      "1 : 12\n",
      "2 : 13\n",
      "3 : 23\n",
      "4 : 20\n",
      "5 : None\n",
      "6 : 88\n",
      "7 : 39\n",
      "8 : 94\n",
      "9 : 11\n",
      "10 : None\n"
     ]
    }
   ],
   "source": [
    "HF = hash_func(a=1, b=0, mod=11)\n",
    "OP = quadratic_probing(a=1, b= 1, mod=11, hash_func=HF)\n",
    "OA = Open_Addressing(size=11, probing_func=OP)\n",
    "\n",
    "print('\\nHash Table:')\n",
    "for i in [12, 44, 13, 88, 23, 94, 11, 39, 20]:\n",
    "    OA.insert(i)\n",
    "    \n",
    "for (bucket, values) in zip(OA.Hash_Table.keys(), OA.Hash_Table.values()):\n",
    "    print(bucket, ':', values)"
   ]
  },
  {
   "cell_type": "code",
   "execution_count": 10,
   "metadata": {
    "ExecuteTime": {
     "end_time": "2021-10-04T09:12:06.960616Z",
     "start_time": "2021-10-04T09:12:06.947977Z"
    }
   },
   "outputs": [
    {
     "data": {
      "text/plain": [
       "{0: 44,\n",
       " 1: 12,\n",
       " 2: 13,\n",
       " 3: 23,\n",
       " 4: 20,\n",
       " 5: None,\n",
       " 6: 88,\n",
       " 7: 39,\n",
       " 8: 94,\n",
       " 9: 11,\n",
       " 10: None}"
      ]
     },
     "execution_count": 10,
     "metadata": {},
     "output_type": "execute_result"
    }
   ],
   "source": [
    "OA.Hash_Table"
   ]
  }
 ],
 "metadata": {
  "kernelspec": {
   "display_name": "Python 3",
   "language": "python",
   "name": "python3"
  },
  "language_info": {
   "codemirror_mode": {
    "name": "ipython",
    "version": 3
   },
   "file_extension": ".py",
   "mimetype": "text/x-python",
   "name": "python",
   "nbconvert_exporter": "python",
   "pygments_lexer": "ipython3",
   "version": "3.7.3"
  },
  "toc": {
   "base_numbering": 1,
   "nav_menu": {},
   "number_sections": true,
   "sideBar": true,
   "skip_h1_title": false,
   "title_cell": "Table of Contents",
   "title_sidebar": "Contents",
   "toc_cell": false,
   "toc_position": {},
   "toc_section_display": true,
   "toc_window_display": false
  },
  "varInspector": {
   "cols": {
    "lenName": 16,
    "lenType": 16,
    "lenVar": 40
   },
   "kernels_config": {
    "python": {
     "delete_cmd_postfix": "",
     "delete_cmd_prefix": "del ",
     "library": "var_list.py",
     "varRefreshCmd": "print(var_dic_list())"
    },
    "r": {
     "delete_cmd_postfix": ") ",
     "delete_cmd_prefix": "rm(",
     "library": "var_list.r",
     "varRefreshCmd": "cat(var_dic_list()) "
    }
   },
   "types_to_exclude": [
    "module",
    "function",
    "builtin_function_or_method",
    "instance",
    "_Feature"
   ],
   "window_display": false
  }
 },
 "nbformat": 4,
 "nbformat_minor": 4
}
