{
 "cells": [
  {
   "cell_type": "code",
   "execution_count": 1,
   "metadata": {
    "ExecuteTime": {
     "end_time": "2021-10-04T08:12:54.100836Z",
     "start_time": "2021-10-04T08:12:53.594143Z"
    }
   },
   "outputs": [],
   "source": [
    "import sys\n",
    "sys.path.append('./py/')\n",
    "from Hash_Function import hash_func"
   ]
  },
  {
   "cell_type": "markdown",
   "metadata": {},
   "source": [
    "# Chaining"
   ]
  },
  {
   "cell_type": "code",
   "execution_count": 2,
   "metadata": {
    "ExecuteTime": {
     "end_time": "2021-10-04T08:12:54.151872Z",
     "start_time": "2021-10-04T08:12:54.104912Z"
    }
   },
   "outputs": [],
   "source": [
    "class Chaining:\n",
    "    '''Implementaion of Chaining Hash Table\n",
    "    \n",
    "    Args:\n",
    "    - size: int, bucket numbers(mod size)\n",
    "    - hash_func: hash function\n",
    "    \n",
    "    Attributes:\n",
    "    - Hash_Table: dict\n",
    "      - .keys: hash values / buckets\n",
    "      - .values: lists\n",
    "    - size: int, bucket numbers(mod size)\n",
    "    '''\n",
    "    \n",
    "    def __init__(self, size, hash_func):\n",
    "        self.size = size\n",
    "        self.hash_func = hash_func\n",
    "        self.Hash_Table = {hash_val : []  for hash_val in range(size)}\n",
    "        \n",
    "    def search(self, x):\n",
    "        '''Search x in Chaining Hash Table\n",
    "        \n",
    "        Args:\n",
    "        - x: int, the element to be searched\n",
    "        \n",
    "        Returns:\n",
    "        if founded:\n",
    "        - x_hash: int, hash value of x, also the bucket number of x in hash table\n",
    "        - idx: int, the index of x in bucket x_hash        \n",
    "        if not founded:\n",
    "        return None\n",
    "        '''\n",
    "        \n",
    "        # Compute the hash value\n",
    "        x_hash = self.hash_func.cal(x)\n",
    "        \n",
    "        # Search the list in bucket x_hash\n",
    "        try:\n",
    "            return (x_hash, self.Hash_Table[x_hash].index(x))\n",
    "        except:\n",
    "            return (None, None)\n",
    "        \n",
    "        \n",
    "    def insert(self, x):\n",
    "        '''Insert x into Chaining Hash Table\n",
    "        \n",
    "        Args:\n",
    "        - x: int, the element to be inserted\n",
    "        '''\n",
    "        \n",
    "        # Compute the hash value\n",
    "        x_hash = self.hash_func.cal(x)\n",
    "        \n",
    "        # Insert X into bucket x_hash at the head\n",
    "        self.Hash_Table[x_hash].insert(0, x)\n",
    "        \n",
    "        \n",
    "    def delete(self, x):\n",
    "        '''Delete x from Chaining Hash Table\n",
    "        \n",
    "        Args:\n",
    "        - x: int, the element to be inserted\n",
    "        '''\n",
    "        \n",
    "        (bucket, idx) = self.search(x)\n",
    "        if idx is None:\n",
    "            raise Exception(\"Error! The element is not in hash table\")\n",
    "        del self.Hash_Table[bucket][idx]"
   ]
  },
  {
   "cell_type": "code",
   "execution_count": 3,
   "metadata": {
    "ExecuteTime": {
     "end_time": "2021-10-04T08:12:54.189114Z",
     "start_time": "2021-10-04T08:12:54.161149Z"
    }
   },
   "outputs": [
    {
     "name": "stdout",
     "output_type": "stream",
     "text": [
      "Hash Function:\n",
      "h_0(k) = (2k+5) mod 11\n"
     ]
    }
   ],
   "source": [
    "HF = hash_func(a=2, b=5, mod=11)\n",
    "HT = Chaining(size=11, hash_func=HF)\n",
    "keys = [12, 44, 13, 88, 23, 94, 11, 39, 20, 16]\n",
    "for k in keys:\n",
    "    HT.insert(k)"
   ]
  },
  {
   "cell_type": "code",
   "execution_count": 4,
   "metadata": {
    "ExecuteTime": {
     "end_time": "2021-10-04T08:12:54.255306Z",
     "start_time": "2021-10-04T08:12:54.200885Z"
    },
    "scrolled": true
   },
   "outputs": [
    {
     "data": {
      "text/plain": [
       "{0: [],\n",
       " 1: [20],\n",
       " 2: [],\n",
       " 3: [],\n",
       " 4: [16],\n",
       " 5: [11, 88, 44],\n",
       " 6: [39, 94],\n",
       " 7: [23, 12],\n",
       " 8: [],\n",
       " 9: [13],\n",
       " 10: []}"
      ]
     },
     "execution_count": 4,
     "metadata": {},
     "output_type": "execute_result"
    }
   ],
   "source": [
    "HT.Hash_Table"
   ]
  },
  {
   "cell_type": "code",
   "execution_count": 5,
   "metadata": {
    "ExecuteTime": {
     "end_time": "2021-10-04T08:12:54.319284Z",
     "start_time": "2021-10-04T08:12:54.283458Z"
    }
   },
   "outputs": [
    {
     "data": {
      "text/plain": [
       "(5, 1)"
      ]
     },
     "execution_count": 5,
     "metadata": {},
     "output_type": "execute_result"
    }
   ],
   "source": [
    "HT.search(88)"
   ]
  },
  {
   "cell_type": "code",
   "execution_count": 6,
   "metadata": {
    "ExecuteTime": {
     "end_time": "2021-10-04T08:12:54.346552Z",
     "start_time": "2021-10-04T08:12:54.335587Z"
    }
   },
   "outputs": [
    {
     "data": {
      "text/plain": [
       "(None, None)"
      ]
     },
     "execution_count": 6,
     "metadata": {},
     "output_type": "execute_result"
    }
   ],
   "source": [
    "HT.search(89)"
   ]
  },
  {
   "cell_type": "code",
   "execution_count": 7,
   "metadata": {
    "ExecuteTime": {
     "end_time": "2021-10-04T08:12:54.369733Z",
     "start_time": "2021-10-04T08:12:54.353588Z"
    },
    "scrolled": true
   },
   "outputs": [
    {
     "name": "stdout",
     "output_type": "stream",
     "text": [
      "0 : []\n",
      "1 : [20]\n",
      "2 : []\n",
      "3 : []\n",
      "4 : [16]\n",
      "5 : [11, 44]\n",
      "6 : [39, 94]\n",
      "7 : [23, 12]\n",
      "8 : []\n",
      "9 : [13]\n",
      "10 : []\n"
     ]
    }
   ],
   "source": [
    "HT.delete(88)\n",
    "for (bucket, values) in zip(HT.Hash_Table.keys(), HT.Hash_Table.values()):\n",
    "    print(bucket, ':', values)"
   ]
  },
  {
   "cell_type": "code",
   "execution_count": 8,
   "metadata": {
    "ExecuteTime": {
     "end_time": "2021-10-04T08:12:54.616120Z",
     "start_time": "2021-10-04T08:12:54.376395Z"
    }
   },
   "outputs": [
    {
     "ename": "Exception",
     "evalue": "Error! X is not is hash table",
     "output_type": "error",
     "traceback": [
      "\u001b[0;31m---------------------------------------------------------------------------\u001b[0m",
      "\u001b[0;31mException\u001b[0m                                 Traceback (most recent call last)",
      "\u001b[0;32m<ipython-input-8-1fb1e726b5c7>\u001b[0m in \u001b[0;36m<module>\u001b[0;34m\u001b[0m\n\u001b[0;32m----> 1\u001b[0;31m \u001b[0mHT\u001b[0m\u001b[0;34m.\u001b[0m\u001b[0mdelete\u001b[0m\u001b[0;34m(\u001b[0m\u001b[0;36m89\u001b[0m\u001b[0;34m)\u001b[0m\u001b[0;34m\u001b[0m\u001b[0;34m\u001b[0m\u001b[0m\n\u001b[0m",
      "\u001b[0;32m<ipython-input-2-e017f21f2bf1>\u001b[0m in \u001b[0;36mdelete\u001b[0;34m(self, x)\u001b[0m\n\u001b[1;32m     62\u001b[0m         \u001b[0;34m(\u001b[0m\u001b[0mbucket\u001b[0m\u001b[0;34m,\u001b[0m \u001b[0midx\u001b[0m\u001b[0;34m)\u001b[0m \u001b[0;34m=\u001b[0m \u001b[0mself\u001b[0m\u001b[0;34m.\u001b[0m\u001b[0msearch\u001b[0m\u001b[0;34m(\u001b[0m\u001b[0mx\u001b[0m\u001b[0;34m)\u001b[0m\u001b[0;34m\u001b[0m\u001b[0;34m\u001b[0m\u001b[0m\n\u001b[1;32m     63\u001b[0m         \u001b[0;32mif\u001b[0m \u001b[0midx\u001b[0m \u001b[0;32mis\u001b[0m \u001b[0;32mNone\u001b[0m\u001b[0;34m:\u001b[0m\u001b[0;34m\u001b[0m\u001b[0;34m\u001b[0m\u001b[0m\n\u001b[0;32m---> 64\u001b[0;31m             \u001b[0;32mraise\u001b[0m \u001b[0mException\u001b[0m\u001b[0;34m(\u001b[0m\u001b[0;34m\"Error! X is not is hash table\"\u001b[0m\u001b[0;34m)\u001b[0m\u001b[0;34m\u001b[0m\u001b[0;34m\u001b[0m\u001b[0m\n\u001b[0m\u001b[1;32m     65\u001b[0m         \u001b[0;32mdel\u001b[0m \u001b[0mself\u001b[0m\u001b[0;34m.\u001b[0m\u001b[0mHash_Table\u001b[0m\u001b[0;34m[\u001b[0m\u001b[0mbucket\u001b[0m\u001b[0;34m]\u001b[0m\u001b[0;34m[\u001b[0m\u001b[0midx\u001b[0m\u001b[0;34m]\u001b[0m\u001b[0;34m\u001b[0m\u001b[0;34m\u001b[0m\u001b[0m\n",
      "\u001b[0;31mException\u001b[0m: Error! X is not is hash table"
     ]
    }
   ],
   "source": [
    "HT.delete(89)"
   ]
  }
 ],
 "metadata": {
  "kernelspec": {
   "display_name": "Python 3",
   "language": "python",
   "name": "python3"
  },
  "language_info": {
   "codemirror_mode": {
    "name": "ipython",
    "version": 3
   },
   "file_extension": ".py",
   "mimetype": "text/x-python",
   "name": "python",
   "nbconvert_exporter": "python",
   "pygments_lexer": "ipython3",
   "version": "3.7.3"
  },
  "toc": {
   "base_numbering": 1,
   "nav_menu": {},
   "number_sections": true,
   "sideBar": true,
   "skip_h1_title": false,
   "title_cell": "Table of Contents",
   "title_sidebar": "Contents",
   "toc_cell": false,
   "toc_position": {},
   "toc_section_display": true,
   "toc_window_display": false
  },
  "varInspector": {
   "cols": {
    "lenName": 16,
    "lenType": 16,
    "lenVar": 40
   },
   "kernels_config": {
    "python": {
     "delete_cmd_postfix": "",
     "delete_cmd_prefix": "del ",
     "library": "var_list.py",
     "varRefreshCmd": "print(var_dic_list())"
    },
    "r": {
     "delete_cmd_postfix": ") ",
     "delete_cmd_prefix": "rm(",
     "library": "var_list.r",
     "varRefreshCmd": "cat(var_dic_list()) "
    }
   },
   "types_to_exclude": [
    "module",
    "function",
    "builtin_function_or_method",
    "instance",
    "_Feature"
   ],
   "window_display": false
  }
 },
 "nbformat": 4,
 "nbformat_minor": 4
}
