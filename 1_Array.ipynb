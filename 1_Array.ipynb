{
 "cells": [
  {
   "cell_type": "code",
   "execution_count": 1,
   "metadata": {
    "ExecuteTime": {
     "end_time": "2021-09-21T11:31:46.716259Z",
     "start_time": "2021-09-21T11:31:46.681086Z"
    }
   },
   "outputs": [],
   "source": [
    "class Array(object):\n",
    "    ''' Implementation of array\n",
    "    \n",
    "    Args:\n",
    "    - data: list, the elements of array\n",
    "    - CAPACITY: int, the physical size of array\n",
    "    - FILL_VALUE: default None, the default value of array\n",
    "        \n",
    "    Attributes:\n",
    "    - data: list, the elements of array\n",
    "    - len: int, the logical size of array\n",
    "    - CAPACITY: int, the physical size of array, start from 1\n",
    "    - FILL_VALUE: default None, the default value of array\n",
    "    \n",
    "    '''\n",
    "    \n",
    "\n",
    "    def __init__(self, data=None, CAPACITY=10, FILL_VALUE=None):\n",
    "        # O(n)\n",
    "        self.data = list()\n",
    "        self.FILL_VALUE = FILL_VALUE\n",
    "        for count in range(CAPACITY):\n",
    "            self.data.append(FILL_VALUE)\n",
    "        if data is not None:\n",
    "            for i, element in enumerate(data):             # O(n)\n",
    "                self.data[i] = element\n",
    "            self.len = i+1                   # the logical size of array\n",
    "        else:\n",
    "            self.len = 0                     # the logical size of array\n",
    "            \n",
    "        self.CAPACITY = CAPACITY             # the physical size of array\n",
    "        \n",
    "        \n",
    "    def insert(self, data, target_index):\n",
    "        # O(n)\n",
    "        '''Insert new item to target index\n",
    "        \n",
    "        Args: \n",
    "        - data: the item to insert\n",
    "        - target_index: int, the target index of new item, start from 0\n",
    "        \n",
    "        '''\n",
    "        if self.CAPACITY == self.len:\n",
    "            raise Exception(\"Error! The array is full\")\n",
    "            \n",
    "        if (target_index > self.len) and (self.len != 0):\n",
    "            raise Exception(\"Error! The index is out of range\")\n",
    "        elif target_index < 0:\n",
    "            if -target_index > self.len +1 :\n",
    "                raise Exception(\"Error! The index is out of range\")\n",
    "            target_index = target_index + self.len + 1\n",
    "            \n",
    "        for i in range(self.len, target_index, -1):  # O(n)\n",
    "            self.data[i] = self.data[i-1]\n",
    "        self.data[target_index] = data\n",
    "        self.len += 1\n",
    "        \n",
    "        \n",
    "    def delete(self, target_index):\n",
    "        # O(n)\n",
    "        '''Delete the item of target index\n",
    "        \n",
    "        Args:\n",
    "        - target_index: int, the target index of deleting item, start from 0\n",
    "        \n",
    "        '''\n",
    "        if target_index+1 > self.len:\n",
    "            raise Exception(\"Error! The index is out of range\")\n",
    "        elif target_index < 0:\n",
    "            if -target_index > self.len:\n",
    "                raise Exception(\"Error! The index is out of range\")\n",
    "            target_index += self.len\n",
    "\n",
    "        for i in range(target_index, self.len-1):   # O(n)\n",
    "            self.data[i] = self.data[i+1]\n",
    "\n",
    "        self.data[self.len-1] = self.FILL_VALUE\n",
    "        self.len -= 1\n",
    "\n",
    "            \n",
    "    def array_max(self):\n",
    "        # O(n) sequential search\n",
    "        currentMax = self.data[0]\n",
    "        for i in range(1, self.len):                # O(n)\n",
    "            if self.data[i] > currentMax:\n",
    "                currentMax = self.data[i]\n",
    "        return currentMax"
   ]
  },
  {
   "cell_type": "code",
   "execution_count": 2,
   "metadata": {
    "ExecuteTime": {
     "end_time": "2021-09-21T11:31:46.751377Z",
     "start_time": "2021-09-21T11:31:46.720593Z"
    }
   },
   "outputs": [
    {
     "name": "stdout",
     "output_type": "stream",
     "text": [
      "before delete: [1, 2, 3, 4, 5, 6, 7, 8, 9, 10]\n",
      "len: 10\n",
      "capacity: 10\n",
      "\n",
      "after delete: [2, 3, 4, 5, 6, 7, 8, 9, 10, None]\n",
      "len: 9\n",
      "\n",
      "after delete: [2, 3, 4, 5, 6, 7, 8, 9, None, None]\n",
      "len: 8\n",
      "\n",
      "after delete: [2, 3, 4, 5, 6, 7, 8, None, None, None]\n",
      "len: 7\n"
     ]
    },
    {
     "data": {
      "text/plain": [
       "8"
      ]
     },
     "execution_count": 2,
     "metadata": {},
     "output_type": "execute_result"
    }
   ],
   "source": [
    "# Create an array\n",
    "a = Array([1, 2, 3, 4, 5, 6, 7, 8, 9, 10], 10)\n",
    "\n",
    "\n",
    "print('before delete:', a.data)\n",
    "print('len:', a.len)\n",
    "print('capacity:', a.CAPACITY)\n",
    "\n",
    "a.delete(0)\n",
    "print('\\nafter delete:', a.data)\n",
    "print('len:', a.len)\n",
    "\n",
    "a.delete(-1)\n",
    "print('\\nafter delete:', a.data)\n",
    "print('len:', a.len)\n",
    "\n",
    "a.delete(-1)\n",
    "print('\\nafter delete:', a.data)\n",
    "print('len:', a.len)\n",
    "\n",
    "a.array_max()"
   ]
  },
  {
   "cell_type": "code",
   "execution_count": 3,
   "metadata": {
    "ExecuteTime": {
     "end_time": "2021-09-21T11:31:46.777574Z",
     "start_time": "2021-09-21T11:31:46.757632Z"
    }
   },
   "outputs": [
    {
     "name": "stdout",
     "output_type": "stream",
     "text": [
      "Original array: [1, 2, 3, 4, 5]\n",
      "Capacity: 5\n",
      "Len: 5\n",
      "\n",
      "Delete index 2: [1, 2, 4, 5, None]\n",
      "Capacity: 5\n",
      "Len: 4\n",
      "\n",
      "Insert 100 at last: [1, 2, 4, 5, 100]\n",
      "Capacity: 5\n",
      "Len: 5\n",
      "\n",
      "The maximum element of array: 100\n"
     ]
    }
   ],
   "source": [
    "# Create a new array: [1, 2, 3, 4, 5]\n",
    "test_list = [1, 2, 3, 4, 5]\n",
    "a = Array(test_list, CAPACITY = test_list.__len__())\n",
    "print('Original array:', a.data)\n",
    "print('Capacity:', a.CAPACITY)\n",
    "print('Len:', a.len)\n",
    "assert a.data == test_list\n",
    "assert a.CAPACITY == a.len == test_list.__len__()\n",
    "\n",
    "# Delete data at index 2\n",
    "a.delete(2)\n",
    "assert a.data == [1, 2, 4, 5, None]\n",
    "assert a.CAPACITY == 5\n",
    "assert a.len == 4\n",
    "print('\\nDelete index 2:', a.data)\n",
    "print('Capacity:', a.CAPACITY)\n",
    "print('Len:', a.len)\n",
    "\n",
    "# Insert 100 at last\n",
    "a.insert(100, -1)\n",
    "assert a.data == [1, 2, 4, 5, 100]\n",
    "assert a.CAPACITY == 5\n",
    "assert a.len == 5\n",
    "print('\\nInsert 100 at last:', a.data)\n",
    "print('Capacity:', a.CAPACITY)\n",
    "print('Len:', a.len)\n",
    "\n",
    "# Find the max\n",
    "assert a.array_max() == 100\n",
    "print('\\nThe maximum element of array:', a.array_max())"
   ]
  }
 ],
 "metadata": {
  "kernelspec": {
   "display_name": "Python 3 (ipykernel)",
   "language": "python",
   "name": "python3"
  },
  "language_info": {
   "codemirror_mode": {
    "name": "ipython",
    "version": 3
   },
   "file_extension": ".py",
   "mimetype": "text/x-python",
   "name": "python",
   "nbconvert_exporter": "python",
   "pygments_lexer": "ipython3",
   "version": "3.7.11"
  },
  "toc": {
   "base_numbering": 1,
   "nav_menu": {},
   "number_sections": true,
   "sideBar": true,
   "skip_h1_title": false,
   "title_cell": "Table of Contents",
   "title_sidebar": "Contents",
   "toc_cell": false,
   "toc_position": {},
   "toc_section_display": true,
   "toc_window_display": false
  },
  "varInspector": {
   "cols": {
    "lenName": 16,
    "lenType": 16,
    "lenVar": 40
   },
   "kernels_config": {
    "python": {
     "delete_cmd_postfix": "",
     "delete_cmd_prefix": "del ",
     "library": "var_list.py",
     "varRefreshCmd": "print(var_dic_list())"
    },
    "r": {
     "delete_cmd_postfix": ") ",
     "delete_cmd_prefix": "rm(",
     "library": "var_list.r",
     "varRefreshCmd": "cat(var_dic_list()) "
    }
   },
   "types_to_exclude": [
    "module",
    "function",
    "builtin_function_or_method",
    "instance",
    "_Feature"
   ],
   "window_display": false
  }
 },
 "nbformat": 4,
 "nbformat_minor": 4
}
