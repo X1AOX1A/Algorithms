{
 "cells": [
  {
   "cell_type": "code",
   "execution_count": 1,
   "metadata": {
    "ExecuteTime": {
     "end_time": "2021-09-21T14:16:45.461337Z",
     "start_time": "2021-09-21T14:16:45.430641Z"
    }
   },
   "outputs": [],
   "source": [
    "class Stack:\n",
    "    ''' Implementation of Stack\n",
    "    \n",
    "    Args:\n",
    "    - LEN: int, the physical size of stack, start from 1\n",
    "    - FILL_VALUE: the default value of stack, default None\n",
    "    \n",
    "    Attributes:\n",
    "    - data: list, the elements of stack\n",
    "    - top: int, the number of elements, equal zero where empty\n",
    "    - LEN: int, the physical size of stack, start from 1, default 100\n",
    "    - FILL_VALUE: the default value of stack, default None\n",
    "    '''\n",
    "    \n",
    "    def __init__(self, LEN=100, FILL_VALUE=None):\n",
    "        assert LEN >= 1\n",
    "        self.data = list()\n",
    "        self.FILL_VALUE = FILL_VALUE\n",
    "        for count in range(LEN):\n",
    "            self.data.append(FILL_VALUE)\n",
    "        \n",
    "        self.top = 0               # the logical size of stack         \n",
    "        self.LEN = LEN             # the physical size of stack\n",
    "        \n",
    "    \n",
    "    def Push(self, item):\n",
    "        '''Insert new item to the top of the stack\n",
    "        \n",
    "        Args:\n",
    "        - item: the item to insert\n",
    "        \n",
    "        '''\n",
    "        if self.top == self.LEN:\n",
    "            raise Exception(\"Error! The stack is full\")\n",
    "        else:            \n",
    "            self.data[self.top] = item  \n",
    "            self.top += 1\n",
    "            \n",
    "            \n",
    "    def Top(self):\n",
    "        '''Return the topmost element in the stack without removing it\n",
    "        '''\n",
    "        if self.is_empty():\n",
    "            raise Exception(\"Error! The stack is empty\")\n",
    "        else:\n",
    "            return self.data[self.top-1]\n",
    "\n",
    "        \n",
    "    def Pop(self):\n",
    "        '''Extract the top item from the stack\n",
    "        '''\n",
    "        if self.is_empty():\n",
    "            raise Exception(\"Error! The stack is empty\")\n",
    "        else:\n",
    "            self.top -= 1\n",
    "            self.data[self.top] = self.FILL_VALUE\n",
    "            \n",
    "    def is_empty(self):\n",
    "        if self.top == 0:\n",
    "            return True\n",
    "        else:\n",
    "            return False"
   ]
  },
  {
   "cell_type": "code",
   "execution_count": 2,
   "metadata": {
    "ExecuteTime": {
     "end_time": "2021-09-21T14:16:45.490710Z",
     "start_time": "2021-09-21T14:16:45.467440Z"
    },
    "scrolled": true
   },
   "outputs": [
    {
     "name": "stdout",
     "output_type": "stream",
     "text": [
      "Original data:\n",
      " [1, 2, 3, None, None, None, None]\n",
      "Top index: 3\n",
      "Length: 7\n",
      "\n",
      "Push 100:\n",
      " [1, 2, 3, 100, None, None, None]\n",
      "Top index: 4\n",
      "Length: 7\n",
      "\n",
      "Top, return: 100 \n",
      " [1, 2, 3, 100, None, None, None]\n",
      "Top index: 4\n",
      "Length: 7\n",
      "\n",
      "Pop:\n",
      " [1, 2, 3, None, None, None, None]\n",
      "Top index: 3\n",
      "Length: 7\n"
     ]
    }
   ],
   "source": [
    "# Create a stack\n",
    "s = Stack(LEN=7)\n",
    "s.Push(1)\n",
    "s.Push(2)\n",
    "s.Push(3)\n",
    "assert s.data == [1, 2, 3, None, None, None, None]\n",
    "print('Original data:\\n', s.data)\n",
    "print('Top index:', s.top)\n",
    "print('Length:', s.LEN)\n",
    "\n",
    "s.Push(100)\n",
    "assert s.data == [1, 2, 3, 100, None, None, None]\n",
    "print('\\nPush 100:\\n', s.data)\n",
    "print('Top index:', s.top)\n",
    "print('Length:', s.LEN)\n",
    "\n",
    "assert s.Top() == 100\n",
    "assert s.data == [1, 2, 3, 100, None, None, None]\n",
    "print('\\nTop, return:', s.Top(), '\\n', s.data)\n",
    "print('Top index:', s.top)\n",
    "print('Length:', s.LEN)\n",
    "\n",
    "s.Pop()\n",
    "assert s.data == [1, 2, 3, None, None, None, None]\n",
    "print('\\nPop:\\n', s.data)\n",
    "print('Top index:', s.top)\n",
    "print('Length:', s.LEN)"
   ]
  }
 ],
 "metadata": {
  "kernelspec": {
   "display_name": "Python 3 (ipykernel)",
   "language": "python",
   "name": "python3"
  },
  "language_info": {
   "codemirror_mode": {
    "name": "ipython",
    "version": 3
   },
   "file_extension": ".py",
   "mimetype": "text/x-python",
   "name": "python",
   "nbconvert_exporter": "python",
   "pygments_lexer": "ipython3",
   "version": "3.7.11"
  },
  "toc": {
   "base_numbering": 1,
   "nav_menu": {},
   "number_sections": true,
   "sideBar": true,
   "skip_h1_title": false,
   "title_cell": "Table of Contents",
   "title_sidebar": "Contents",
   "toc_cell": false,
   "toc_position": {},
   "toc_section_display": true,
   "toc_window_display": false
  },
  "varInspector": {
   "cols": {
    "lenName": 16,
    "lenType": 16,
    "lenVar": 40
   },
   "kernels_config": {
    "python": {
     "delete_cmd_postfix": "",
     "delete_cmd_prefix": "del ",
     "library": "var_list.py",
     "varRefreshCmd": "print(var_dic_list())"
    },
    "r": {
     "delete_cmd_postfix": ") ",
     "delete_cmd_prefix": "rm(",
     "library": "var_list.r",
     "varRefreshCmd": "cat(var_dic_list()) "
    }
   },
   "types_to_exclude": [
    "module",
    "function",
    "builtin_function_or_method",
    "instance",
    "_Feature"
   ],
   "window_display": false
  }
 },
 "nbformat": 4,
 "nbformat_minor": 4
}
