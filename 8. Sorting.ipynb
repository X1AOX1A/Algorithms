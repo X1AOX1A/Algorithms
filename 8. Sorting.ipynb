{
 "cells": [
  {
   "cell_type": "markdown",
   "metadata": {},
   "source": [
    "# Selection Sort"
   ]
  },
  {
   "cell_type": "code",
   "execution_count": 24,
   "metadata": {
    "ExecuteTime": {
     "end_time": "2021-10-20T13:16:09.498365Z",
     "start_time": "2021-10-20T13:16:09.438644Z"
    }
   },
   "outputs": [],
   "source": [
    "def Selection_Sort(A, verbose=True):\n",
    "    if verbose:\n",
    "        print('Input:', A)\n",
    "    for i in range(0, len(A)-1):\n",
    "        m = i                     # temp min index\n",
    "        for j in range(i+1, len(A)):\n",
    "            if A[m] > A[j]:\n",
    "                m = j        \n",
    "        A[i], A[m] = A[m], A[i]\n",
    "        if verbose:\n",
    "            print(' i={}'.format(i), A)\n",
    "    if verbose:\n",
    "        print('Output:', A)\n",
    "    return A"
   ]
  },
  {
   "cell_type": "code",
   "execution_count": 25,
   "metadata": {
    "ExecuteTime": {
     "end_time": "2021-10-20T13:16:09.719062Z",
     "start_time": "2021-10-20T13:16:09.708840Z"
    }
   },
   "outputs": [
    {
     "name": "stdout",
     "output_type": "stream",
     "text": [
      "Input: [5, 2, 4, 9, 7]\n",
      " i=0 [2, 5, 4, 9, 7]\n",
      " i=1 [2, 4, 5, 9, 7]\n",
      " i=2 [2, 4, 5, 9, 7]\n",
      " i=3 [2, 4, 5, 7, 9]\n",
      "Output: [2, 4, 5, 7, 9]\n"
     ]
    },
    {
     "data": {
      "text/plain": [
       "[2, 4, 5, 7, 9]"
      ]
     },
     "execution_count": 25,
     "metadata": {},
     "output_type": "execute_result"
    }
   ],
   "source": [
    "A = [5, 2, 4, 9, 7]\n",
    "Selection_Sort(A)"
   ]
  },
  {
   "cell_type": "markdown",
   "metadata": {},
   "source": [
    "# Insertion Sort"
   ]
  },
  {
   "cell_type": "code",
   "execution_count": 30,
   "metadata": {
    "ExecuteTime": {
     "end_time": "2021-10-20T13:21:23.227045Z",
     "start_time": "2021-10-20T13:21:23.207327Z"
    }
   },
   "outputs": [],
   "source": [
    "def Insertion_Sort(A, verbose=True):\n",
    "    for i in range(1, len(A)):\n",
    "        if verbose:\n",
    "            print(A[:i],A[i:])\n",
    "            \n",
    "        v = A[i]\n",
    "        j = i-1\n",
    "        \n",
    "        # find a place for v in the sorted part\n",
    "        while (j>=0) and (A[j]>v):\n",
    "            A[j+1] = A[j] # swap until v inplace\n",
    "            j -= 1\n",
    "        A[j+1] = v\n",
    "    if verbose:\n",
    "        print(A)\n",
    "    return A"
   ]
  },
  {
   "cell_type": "code",
   "execution_count": 31,
   "metadata": {
    "ExecuteTime": {
     "end_time": "2021-10-20T13:21:23.481057Z",
     "start_time": "2021-10-20T13:21:23.465939Z"
    }
   },
   "outputs": [
    {
     "name": "stdout",
     "output_type": "stream",
     "text": [
      "[89] [45, 68, 90, 29, 34, 17]\n",
      "[45, 89] [68, 90, 29, 34, 17]\n",
      "[45, 68, 89] [90, 29, 34, 17]\n",
      "[45, 68, 89, 90] [29, 34, 17]\n",
      "[29, 45, 68, 89, 90] [34, 17]\n",
      "[29, 34, 45, 68, 89, 90] [17]\n",
      "[17, 29, 34, 45, 68, 89, 90]\n"
     ]
    },
    {
     "data": {
      "text/plain": [
       "[17, 29, 34, 45, 68, 89, 90]"
      ]
     },
     "execution_count": 31,
     "metadata": {},
     "output_type": "execute_result"
    }
   ],
   "source": [
    "A = [89, 45, 68, 90, 29, 34, 17]\n",
    "Insertion_Sort(A)"
   ]
  },
  {
   "cell_type": "markdown",
   "metadata": {},
   "source": [
    "# Merge Sort"
   ]
  },
  {
   "cell_type": "code",
   "execution_count": 116,
   "metadata": {
    "ExecuteTime": {
     "end_time": "2021-10-20T14:09:05.643442Z",
     "start_time": "2021-10-20T14:09:05.612837Z"
    }
   },
   "outputs": [],
   "source": [
    "from math import floor, ceil\n",
    "\n",
    "def Merge(L, R, A):\n",
    "    p, q = len(L), len(R)\n",
    "    i, j, k = 0, 0, 0\n",
    "    while (i<p) and (j<q):\n",
    "        if L[i]<=R[j]:\n",
    "            A[k] = L[i]\n",
    "            i+=1\n",
    "        else:\n",
    "            A[k] = R[j]\n",
    "            j+=1\n",
    "        k+=1\n",
    "        \n",
    "    if i==p:\n",
    "        A[k:p+q] = R[j:q]\n",
    "    else:\n",
    "        A[k:p+q] = L[i:p]\n",
    "    return A\n",
    "\n",
    "def Merge_Sort(A, verbose=True, blank='-'):\n",
    "    n = len(A)\n",
    "    if len(A)>1:\n",
    "        L = A[:ceil(n/2)]\n",
    "        R = A[ceil(n/2):]\n",
    "        if verbose:\n",
    "            print(blank+'Conquer:{}->{}, {}'.format(A, L, R))\n",
    "        L = Merge_Sort(L, verbose, ' |'+blank)\n",
    "        R = Merge_Sort(R, verbose, ' |'+blank)\n",
    "\n",
    "        A = Merge(L, R, A)\n",
    "        if verbose:\n",
    "            print(blank+'Combine: {}, {}->{}'.format(L, R, A))\n",
    "    return A"
   ]
  },
  {
   "cell_type": "code",
   "execution_count": 181,
   "metadata": {
    "ExecuteTime": {
     "end_time": "2021-10-20T14:56:01.642052Z",
     "start_time": "2021-10-20T14:56:01.618836Z"
    }
   },
   "outputs": [
    {
     "name": "stdout",
     "output_type": "stream",
     "text": [
      "-Conquer:[2, 4, 9, 5, 5, 7, 3, 6, 2]->[2, 4, 9, 5, 5], [7, 3, 6, 2]\n",
      " |-Conquer:[2, 4, 9, 5, 5]->[2, 4, 9], [5, 5]\n",
      " | |-Conquer:[2, 4, 9]->[2, 4], [9]\n",
      " | | |-Conquer:[2, 4]->[2], [4]\n",
      " | | |-Combine: [2], [4]->[2, 4]\n",
      " | |-Combine: [2, 4], [9]->[2, 4, 9]\n",
      " | |-Conquer:[5, 5]->[5], [5]\n",
      " | |-Combine: [5], [5]->[5, 5]\n",
      " |-Combine: [2, 4, 9], [5, 5]->[2, 4, 5, 5, 9]\n",
      " |-Conquer:[7, 3, 6, 2]->[7, 3], [6, 2]\n",
      " | |-Conquer:[7, 3]->[7], [3]\n",
      " | |-Combine: [7], [3]->[3, 7]\n",
      " | |-Conquer:[6, 2]->[6], [2]\n",
      " | |-Combine: [6], [2]->[2, 6]\n",
      " |-Combine: [3, 7], [2, 6]->[2, 3, 6, 7]\n",
      "-Combine: [2, 4, 5, 5, 9], [2, 3, 6, 7]->[2, 2, 3, 4, 5, 5, 6, 7, 9]\n"
     ]
    },
    {
     "data": {
      "text/plain": [
       "[2, 2, 3, 4, 5, 5, 6, 7, 9]"
      ]
     },
     "execution_count": 181,
     "metadata": {},
     "output_type": "execute_result"
    }
   ],
   "source": [
    "A = [2, 4, 9, 5, 5, 7, 3, 6, 2]\n",
    "Merge_Sort(A)"
   ]
  },
  {
   "cell_type": "markdown",
   "metadata": {},
   "source": [
    "# Quick Sort"
   ]
  },
  {
   "cell_type": "code",
   "execution_count": 201,
   "metadata": {
    "ExecuteTime": {
     "end_time": "2021-10-20T15:06:20.009564Z",
     "start_time": "2021-10-20T15:06:19.968850Z"
    }
   },
   "outputs": [],
   "source": [
    "# 左小右大函数，获取一个中值，左放小右放大函数\n",
    "def Partition(arr, low, high):       #参数：列表，列表的第一个索引0，最后一个索引值N\n",
    "    \"\"\"\n",
    "    【左小右大函数】\n",
    "    实现结果：提取列表中的最后一个元素为被比较值，≤该元素的值放在左边，＞该元素的值放在右边\n",
    "    实现过程：≤最后一个元素的所有元素依次放在左边索引0~i的位置，然后将最后一个元素放在索引i的位置，实现结果\n",
    "    arr: 列表\n",
    "    low: arr的第一个索引：0\n",
    "    high: arr的最后一个索引：high\n",
    "    return: i，即被比较值所在的索引位置\n",
    "    \"\"\"\n",
    "    i = low                                       # 最小元素索引\n",
    "    pivot = arr[high]                             # 最后一个元素，我们把列表中的所有元素同它比较\n",
    "\n",
    "    for j in range(low, high):                    #从第一个索引到倒数第二个索引\n",
    "        if arr[j] <= pivot:                       #从第一个元素到倒数第二个元素依次判断是否≤最后一个元素\n",
    "            arr[i], arr[j] = arr[j], arr[i]       #≤最后一个元素的所有元素依次放在左边索引0~i的位置\n",
    "            i = i + 1\n",
    "    arr[i], arr[high] = arr[high], arr[i]         #然后将最后一个元素放在索引i的位置，实现：该元素左边的都比它小，右边的都比它大的排序\n",
    "    return (i)                                    #返回该元素的索引位置\n",
    "\n",
    "\n",
    "# 快速排序函数\n",
    "def Quick_Sort(arr, low, high, verbose=True, blank='-'):\n",
    "    if low < high:                                #如果列表有1个以上的元素\n",
    "        pi = Partition(arr, low, high)            #获取左小右大函数中的 被比较数所在的索引\n",
    "        print(blank,arr[low:pi], arr[pi], arr[pi+1:high+1])\n",
    "\n",
    "        Quick_Sort(arr, low, pi - 1, verbose, ' |'+blank)            #反复循环，左排序\n",
    "        Quick_Sort(arr, pi + 1, high, verbose, ' |'+blank)           #反复循环，右排序"
   ]
  },
  {
   "cell_type": "code",
   "execution_count": 202,
   "metadata": {
    "ExecuteTime": {
     "end_time": "2021-10-20T15:06:20.371458Z",
     "start_time": "2021-10-20T15:06:20.355074Z"
    }
   },
   "outputs": [
    {
     "name": "stdout",
     "output_type": "stream",
     "text": [
      "- [29, 40, 47, 26, 13] 59 [85, 70]\n",
      " |- [] 13 [40, 47, 26, 29]\n",
      " | |- [26] 29 [40, 47]\n",
      " | | |- [40] 47 []\n",
      " |- [] 70 [85]\n"
     ]
    },
    {
     "data": {
      "text/plain": [
       "[13, 26, 29, 40, 47, 59, 70, 85]"
      ]
     },
     "execution_count": 202,
     "metadata": {},
     "output_type": "execute_result"
    }
   ],
   "source": [
    "A = [29, 70, 85, 40, 47, 26, 13, 59]\n",
    "Quick_Sort(A, 0, len(A)-1)\n",
    "A"
   ]
  },
  {
   "cell_type": "code",
   "execution_count": 203,
   "metadata": {
    "ExecuteTime": {
     "end_time": "2021-10-20T15:09:38.105017Z",
     "start_time": "2021-10-20T15:09:38.093674Z"
    }
   },
   "outputs": [
    {
     "name": "stdout",
     "output_type": "stream",
     "text": [
      "- [12, 13, 11] 16 [23, 94, 44, 39, 20, 88]\n",
      " |- [] 11 [13, 12]\n",
      " | |- [] 12 [13]\n",
      " |- [23, 44, 39, 20] 88 [94]\n",
      " | |- [] 20 [44, 39, 23]\n",
      " | | |- [] 23 [39, 44]\n",
      " | | | |- [39] 44 []\n"
     ]
    },
    {
     "data": {
      "text/plain": [
       "[11, 12, 13, 16, 20, 23, 39, 44, 88, 94]"
      ]
     },
     "execution_count": 203,
     "metadata": {},
     "output_type": "execute_result"
    }
   ],
   "source": [
    "A = [12, 44, 13, 88, 23, 94, 11, 39, 20, 16]\n",
    "Quick_Sort(A, 0, len(A)-1)\n",
    "A"
   ]
  },
  {
   "cell_type": "code",
   "execution_count": 190,
   "metadata": {
    "ExecuteTime": {
     "end_time": "2021-10-20T15:02:02.300122Z",
     "start_time": "2021-10-20T15:02:02.288595Z"
    }
   },
   "outputs": [],
   "source": [
    "def quickSort(listx):\n",
    "    if len(listx)<=1:\n",
    "        return listx\n",
    "    pivot = listx[len(listx)//2]              #取列表中中间的元素为被比较数pivot\n",
    "    listl = [x for x in listx if x < pivot]   #<pivot的放在一个列表\n",
    "    listm = [x for x in listx if x ==pivot]   #=pivot的放在一个列表\n",
    "    listr = [x for x in listx if x > pivot]   #>pivot的放在一个列表\n",
    "    left = quickSort(listl)                   #递归进行该函数\n",
    "    right = quickSort(listr)                  #递归进行该函数\n",
    "    return left + listm + right               #整合"
   ]
  },
  {
   "cell_type": "code",
   "execution_count": 191,
   "metadata": {
    "ExecuteTime": {
     "end_time": "2021-10-20T15:02:02.520388Z",
     "start_time": "2021-10-20T15:02:02.508847Z"
    }
   },
   "outputs": [
    {
     "data": {
      "text/plain": [
       "[13, 26, 29, 40, 47, 59, 70, 85]"
      ]
     },
     "execution_count": 191,
     "metadata": {},
     "output_type": "execute_result"
    }
   ],
   "source": [
    "A = [29, 70, 85, 40, 47, 26, 13, 59]\n",
    "quickSort(A)"
   ]
  }
 ],
 "metadata": {
  "kernelspec": {
   "display_name": "Python 3 (ipykernel)",
   "language": "python",
   "name": "python3"
  },
  "language_info": {
   "codemirror_mode": {
    "name": "ipython",
    "version": 3
   },
   "file_extension": ".py",
   "mimetype": "text/x-python",
   "name": "python",
   "nbconvert_exporter": "python",
   "pygments_lexer": "ipython3",
   "version": "3.7.11"
  },
  "toc": {
   "base_numbering": 1,
   "nav_menu": {},
   "number_sections": true,
   "sideBar": true,
   "skip_h1_title": false,
   "title_cell": "Table of Contents",
   "title_sidebar": "Contents",
   "toc_cell": false,
   "toc_position": {},
   "toc_section_display": true,
   "toc_window_display": true
  },
  "varInspector": {
   "cols": {
    "lenName": 16,
    "lenType": 16,
    "lenVar": 40
   },
   "kernels_config": {
    "python": {
     "delete_cmd_postfix": "",
     "delete_cmd_prefix": "del ",
     "library": "var_list.py",
     "varRefreshCmd": "print(var_dic_list())"
    },
    "r": {
     "delete_cmd_postfix": ") ",
     "delete_cmd_prefix": "rm(",
     "library": "var_list.r",
     "varRefreshCmd": "cat(var_dic_list()) "
    }
   },
   "types_to_exclude": [
    "module",
    "function",
    "builtin_function_or_method",
    "instance",
    "_Feature"
   ],
   "window_display": false
  }
 },
 "nbformat": 4,
 "nbformat_minor": 4
}
